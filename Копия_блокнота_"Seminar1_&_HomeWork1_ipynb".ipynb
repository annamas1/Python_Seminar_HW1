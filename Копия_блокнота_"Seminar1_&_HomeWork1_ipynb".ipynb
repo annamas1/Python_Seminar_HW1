{
  "nbformat": 4,
  "nbformat_minor": 0,
  "metadata": {
    "colab": {
      "provenance": [],
      "authorship_tag": "ABX9TyMdiR4hYzvCFWyPblSS/71G",
      "include_colab_link": true
    },
    "kernelspec": {
      "name": "python3",
      "display_name": "Python 3"
    },
    "language_info": {
      "name": "python"
    }
  },
  "cells": [
    {
      "cell_type": "markdown",
      "metadata": {
        "id": "view-in-github",
        "colab_type": "text"
      },
      "source": [
        "<a href=\"https://colab.research.google.com/github/annamas1/Python_Seminar_HW1/blob/main/%D0%9A%D0%BE%D0%BF%D0%B8%D1%8F_%D0%B1%D0%BB%D0%BE%D0%BA%D0%BD%D0%BE%D1%82%D0%B0_%22Seminar1_%26_HomeWork1_ipynb%22.ipynb\" target=\"_parent\"><img src=\"https://colab.research.google.com/assets/colab-badge.svg\" alt=\"Open In Colab\"/></a>"
      ]
    },
    {
      "cell_type": "markdown",
      "source": [
        "#**Семинар 1**"
      ],
      "metadata": {
        "id": "OvtfHLmSF7sg"
      }
    },
    {
      "cell_type": "markdown",
      "source": [
        "***Задание 1***"
      ],
      "metadata": {
        "id": "eVYXI532G4X7"
      }
    },
    {
      "cell_type": "markdown",
      "source": [
        "1.1 Соедините два словаря в один"
      ],
      "metadata": {
        "id": "kDwce2MUFjAR"
      }
    },
    {
      "cell_type": "code",
      "source": [
        "dict1 = {'One': 1, 'Two': 2, 'Three': 3}\n",
        "dict2 = {'Four': 4, 'Five': 5, 'Six': 6}\n",
        "dict1.update(dict2)\n",
        "dict1"
      ],
      "metadata": {
        "colab": {
          "base_uri": "https://localhost:8080/"
        },
        "id": "yReqt-_qESFq",
        "outputId": "950bfa7e-7cad-4063-9836-d61e2cfeae20"
      },
      "execution_count": null,
      "outputs": [
        {
          "output_type": "execute_result",
          "data": {
            "text/plain": [
              "{'One': 1, 'Two': 2, 'Three': 3, 'Four': 4, 'Five': 5, 'Six': 6}"
            ]
          },
          "metadata": {},
          "execution_count": 11
        }
      ]
    },
    {
      "cell_type": "markdown",
      "source": [
        "1.2 Напишите функцию, которая на вход принимает два словаря и возвращает один объединенный словарь"
      ],
      "metadata": {
        "id": "SghRBE4zF4DW"
      }
    },
    {
      "cell_type": "code",
      "source": [
        "def func(dict1, dict2):\n",
        "  dict1.update(dict2)\n",
        "  return dict1\n",
        "\n",
        "func(dict1, dict2)"
      ],
      "metadata": {
        "colab": {
          "base_uri": "https://localhost:8080/"
        },
        "id": "Yzk1tUItF5F5",
        "outputId": "7c749b60-351f-4013-a0ff-8686b2c72fca"
      },
      "execution_count": null,
      "outputs": [
        {
          "output_type": "execute_result",
          "data": {
            "text/plain": [
              "{'One': 1, 'Two': 2, 'Three': 3, 'Four': 4, 'Five': 5, 'Six': 6}"
            ]
          },
          "metadata": {},
          "execution_count": 12
        }
      ]
    },
    {
      "cell_type": "markdown",
      "source": [
        "***Задание 2***"
      ],
      "metadata": {
        "id": "vCpYBa0eHfa7"
      }
    },
    {
      "cell_type": "markdown",
      "source": [
        "Напишите функцию, которая из двух списков, делает один словарь, где элементы из первого списка - ключи, а элементы из второго списка - значения"
      ],
      "metadata": {
        "id": "HgYkkNXeHivY"
      }
    },
    {
      "cell_type": "markdown",
      "source": [
        "2.1 Используя цикл for"
      ],
      "metadata": {
        "id": "_RSbAZNbKH4h"
      }
    },
    {
      "cell_type": "code",
      "source": [
        "keys = ['One', 'Two', 'Three']\n",
        "values = [1, 2, 3]"
      ],
      "metadata": {
        "id": "smJSNhCHHxI5"
      },
      "execution_count": null,
      "outputs": []
    },
    {
      "cell_type": "code",
      "source": [
        "def func2(keys, values):\n",
        "  dict3 = {}\n",
        "  for i in range (len(keys)):\n",
        "    dict3.update({keys[i]:values[i]})\n",
        "  return dict3\n",
        "\n",
        "func2(keys, values)"
      ],
      "metadata": {
        "colab": {
          "base_uri": "https://localhost:8080/"
        },
        "id": "S0TSgUYRIDDB",
        "outputId": "d8d192da-aa2e-4a9c-d1d5-013688bd3e44"
      },
      "execution_count": null,
      "outputs": [
        {
          "output_type": "execute_result",
          "data": {
            "text/plain": [
              "{'One': 1, 'Two': 2, 'Three': 3}"
            ]
          },
          "metadata": {},
          "execution_count": 17
        }
      ]
    },
    {
      "cell_type": "markdown",
      "source": [
        "2.2 Используя dict comprehensions"
      ],
      "metadata": {
        "id": "5J0cXoSsJ_Qy"
      }
    },
    {
      "cell_type": "code",
      "source": [
        "def func3(keys, values):\n",
        "  return {keys[i]:values[i] for i in range (len(keys))}\n",
        "func3(keys, values)"
      ],
      "metadata": {
        "colab": {
          "base_uri": "https://localhost:8080/"
        },
        "id": "DM7iuB7WKCxZ",
        "outputId": "7854ae38-1333-4ea6-8a8a-00bf33eba865"
      },
      "execution_count": null,
      "outputs": [
        {
          "output_type": "execute_result",
          "data": {
            "text/plain": [
              "{'One': 1, 'Two': 2, 'Three': 3}"
            ]
          },
          "metadata": {},
          "execution_count": 21
        }
      ]
    },
    {
      "cell_type": "markdown",
      "source": [
        "***Задание 3***"
      ],
      "metadata": {
        "id": "O32VsHLHLYiC"
      }
    },
    {
      "cell_type": "markdown",
      "source": [
        "3.1 Напишите функцию с циклом for\n",
        "\n",
        "Функция на вход принимает:\n",
        "исходный словарь\n",
        "ключи, которые нужно извлечь (аргумент по умолчанию)\n",
        "На выходе словарь с нужными ключами\n",
        "Используйте аннотирование типов\n"
      ],
      "metadata": {
        "id": "zdrxt8mHLoOz"
      }
    },
    {
      "cell_type": "code",
      "source": [
        "client_dict = {\n",
        "\"name\": \"John\",\n",
        "\"age\": 25,\n",
        "\"salary\": 5000,\n",
        "\"city\": \"Moscow\"\n",
        "}\n",
        "\n",
        "keys = ['name', 'age']\n",
        "def func4(dict4, keys):\n",
        "  dict5 = {}\n",
        "  for i in keys:\n",
        "    dict5.update({i: dict4[i]})\n",
        "  return dict5\n",
        "func4(client_dict, keys)"
      ],
      "metadata": {
        "colab": {
          "base_uri": "https://localhost:8080/"
        },
        "id": "ldolRwhMLsO7",
        "outputId": "9235961d-c50c-4bc0-93aa-baa1ec59333c"
      },
      "execution_count": null,
      "outputs": [
        {
          "output_type": "execute_result",
          "data": {
            "text/plain": [
              "{'name': 'John', 'age': 25}"
            ]
          },
          "metadata": {},
          "execution_count": 22
        }
      ]
    },
    {
      "cell_type": "markdown",
      "source": [
        "3.2 Используя dict comprehensions"
      ],
      "metadata": {
        "id": "4lD9WOiMNTWS"
      }
    },
    {
      "cell_type": "code",
      "source": [
        "def func5(keys,dict4):\n",
        "  return {i: dict4[i] for i in keys}\n",
        "func5(keys, client_dict)"
      ],
      "metadata": {
        "colab": {
          "base_uri": "https://localhost:8080/"
        },
        "id": "JVp-G64HNVhK",
        "outputId": "da4b708c-941f-4f54-c25d-43d30e3bd7c6"
      },
      "execution_count": null,
      "outputs": [
        {
          "output_type": "execute_result",
          "data": {
            "text/plain": [
              "{'name': 'John', 'age': 25}"
            ]
          },
          "metadata": {},
          "execution_count": 23
        }
      ]
    },
    {
      "cell_type": "markdown",
      "source": [
        "***Задание 4***"
      ],
      "metadata": {
        "id": "dNu2OO-eOAgi"
      }
    },
    {
      "cell_type": "markdown",
      "source": [
        "4.1 Сгенерируйте случайные целые числа от 0 до 100 в количестве 5 штук с помощью модуля random\n",
        "\n",
        "\n",
        "*   Зафиксируйте псевдогенерацию, чтобы сгенерированные значения всегда были одинаковые\n",
        "*   Используйте list comprehensions\n",
        "\n",
        "\n",
        "\n",
        "\n"
      ],
      "metadata": {
        "id": "HlbKHYolOBuK"
      }
    },
    {
      "cell_type": "code",
      "source": [
        "import random\n",
        "random.seed(10)\n",
        "list1 = [random.randint(0,100) for i in range (5)]\n",
        "list1"
      ],
      "metadata": {
        "colab": {
          "base_uri": "https://localhost:8080/"
        },
        "id": "hvuZB9p0SgAj",
        "outputId": "1513dc3c-483e-451a-bbc7-1b8f5d370e38"
      },
      "execution_count": null,
      "outputs": [
        {
          "output_type": "execute_result",
          "data": {
            "text/plain": [
              "[73, 4, 54, 61, 73]"
            ]
          },
          "metadata": {},
          "execution_count": 27
        }
      ]
    },
    {
      "cell_type": "markdown",
      "source": [
        "4.2 Напишите генератор\n",
        " \n",
        "*   Генератор на вход принимает список с данными о клиенте (данные из пункта 4.1)\n",
        "*   Внутри генератора реализуйте обход по списку с данными\n",
        "\n",
        "На каждой итерации генератор будет возвращать кортеж из двух элементов:\n",
        "1.   данные по клиенту (в зависимости от итерации, на 0 итерации вернется 0 элемент, на 1 итерации вернется 1 элемент и тд)\n",
        "2.   целочисленное значение, которое показывает, сколько секунд прошло с предыдущей итерации\n",
        "\n",
        "Примечание: секунды, которые возвращаются должны показывать время не с начала запуска генератора, а именно то время, которое прошло с предыдущей итерации. А значит время на первой итерации должно равняться 0.\n",
        "\n",
        "*   Используйте функцию time из модуля time для подсчета времени.\n",
        "*   Чтобы проверить работу таймера, запустите проход по генератору в цикле с time.sleep(2)"
      ],
      "metadata": {
        "id": "rrNiOQZ1PvM0"
      }
    },
    {
      "cell_type": "code",
      "source": [
        "import time\n",
        "def func6(list1):\n",
        "  last_time = None\n",
        "  for i in list1:\n",
        "    current_time = time.time()\n",
        "    if last_time: d = current_time - last_time\n",
        "    else: d = current_time - current_time\n",
        "    last_time = time.time()\n",
        "    yield (int(d), i)\n",
        "\n",
        "for i in func6(list1):\n",
        "  print(i)\n",
        "  time.sleep(2)"
      ],
      "metadata": {
        "colab": {
          "base_uri": "https://localhost:8080/"
        },
        "id": "Gwm9U2R6ZXmu",
        "outputId": "2678042a-0c27-4c04-d29d-d00b6fb7794d"
      },
      "execution_count": null,
      "outputs": [
        {
          "output_type": "stream",
          "name": "stdout",
          "text": [
            "(0, 73)\n",
            "(2, 4)\n",
            "(2, 54)\n",
            "(2, 61)\n",
            "(2, 73)\n"
          ]
        }
      ]
    },
    {
      "cell_type": "markdown",
      "source": [
        "***Задание 5***"
      ],
      "metadata": {
        "id": "Ua9py-E1PwmX"
      }
    },
    {
      "cell_type": "markdown",
      "source": [
        "5.1 Найдите картинку в интернете и прикрепите её в ячейку с текстом\n"
      ],
      "metadata": {
        "id": "721ujm0dP3vC"
      }
    },
    {
      "cell_type": "markdown",
      "source": [
        "<img src=https://cdn.playcaliber.com/site/media/news/2021/06/01/4-%D0%A2%D0%B0%D0%B1%D0%BB%D0%B8%D1%86%D0%B0-%D0%BC%D0%B0%D0%BB%D0%B5%D0%BD%D1%8C%D0%BA%D0%B0%D1%8F-%D0%BF%D0%BE-%D1%80%D0%B5%D0%B6%D0%B8%D0%BC%D0%B0%D0%BC-1280%D1%85853.jpg>"
      ],
      "metadata": {
        "id": "HtpAntuwOdXt"
      }
    },
    {
      "cell_type": "markdown",
      "source": [
        "5.2 Создайте следующую таблицу в ячейке с текстом"
      ],
      "metadata": {
        "id": "Ga7IwFwnP_FS"
      }
    },
    {
      "cell_type": "markdown",
      "source": [
        "<table>\n",
        "  <tr>\n",
        "    <td> </td>\n",
        "    <td> до события </td>\n",
        "    <td> во время события </td>\n",
        "    </tr>\n",
        "    <tr>\n",
        "    <td> 1 контрольная точка </td>\n",
        "    <td> 250 </td>\n",
        "    <td> 500 </td>\n",
        "    </tr>\n",
        "    <tr>\n",
        "    <td> 2 контрольная точка </td>\n",
        "    <td> 350 </td>\n",
        "    <td> 700 </td>\n",
        "    </tr>\n",
        "    <tr>\n",
        "    <td> 3 контрольная точка </td>\n",
        "    <td> 400 </td>\n",
        "    <td> 800 </td>\n",
        "    </tr>\n",
        "  </table>"
      ],
      "metadata": {
        "id": "T00mo2r_Qhmy"
      }
    },
    {
      "cell_type": "markdown",
      "source": [
        "***Задание 6***"
      ],
      "metadata": {
        "id": "rcTdZAM0QVUC"
      }
    },
    {
      "cell_type": "markdown",
      "source": [
        "Напишите функцию, которая может принимать любое количество трат пользователя и считать сумму и среднее.\n",
        "*   На вход поступают целочисленные значения в любом количестве\n",
        "*   На выходе словарь с ключами суммы трат и средней траты"
      ],
      "metadata": {
        "id": "AmRI1PoAQXE6"
      }
    },
    {
      "cell_type": "code",
      "source": [
        "def sum_numbers(*numbers):\n",
        "  a = sum(numbers)\n",
        "  b = len(numbers)\n",
        "  return {\"sum\":a, \"mean\": a/b}\n",
        "sum_numbers(1,2,3,4,5,6)"
      ],
      "metadata": {
        "colab": {
          "base_uri": "https://localhost:8080/"
        },
        "id": "m_dAOPo4SNDM",
        "outputId": "743dace7-0f5d-42d7-f10f-12888754bb41"
      },
      "execution_count": null,
      "outputs": [
        {
          "output_type": "execute_result",
          "data": {
            "text/plain": [
              "{'sum': 21, 'mean': 3.5}"
            ]
          },
          "metadata": {},
          "execution_count": 24
        }
      ]
    },
    {
      "cell_type": "markdown",
      "source": [
        "## **Домашнее задание к семинару 1**"
      ],
      "metadata": {
        "id": "pmrrW500cBoV"
      }
    },
    {
      "cell_type": "markdown",
      "source": [
        "###***Задача 1***\n",
        "\n",
        "Оформляйте ноутбук, используя эти советы:\n",
        "\n",
        "1.   Номер задачи - заголовок 2\n",
        "2.   Номер подзадачи - заголовок 3\n",
        "\n",
        "Предоставленные наборы данных оформляйте, как код\n",
        "\n",
        "Рекомендации для преподавателей по оценке задания:\n",
        "Смотреть, чтобы студент красиво оформлял ноутбук, использовал ячейки с текстом, указывал номера заданий"
      ],
      "metadata": {
        "id": "0xBx5kgycH_Y"
      }
    },
    {
      "cell_type": "markdown",
      "source": [
        "###***Задача 2***\n",
        "\n",
        "На складе лежат разные фрукты в разном количестве.\n",
        "\n",
        "Нужно написать функцию, которая на вход принимает любое количество названий фруктов и их количество, а возвращает общее количество фруктов на складе"
      ],
      "metadata": {
        "id": "u2L4kjZJdc1X"
      }
    },
    {
      "cell_type": "code",
      "source": [
        "def all_frut(**frut):\n",
        "  total = 0\n",
        "  for amount in frut.values():\n",
        "    total += amount\n",
        "  return total\n",
        "\n",
        "all_frut(banana = 75, mango = 99, apples = 15)"
      ],
      "metadata": {
        "colab": {
          "base_uri": "https://localhost:8080/"
        },
        "id": "Na25dhjtd340",
        "outputId": "117cb307-a34b-4c1c-c466-626b21b99293"
      },
      "execution_count": null,
      "outputs": [
        {
          "output_type": "execute_result",
          "data": {
            "text/plain": [
              "189"
            ]
          },
          "metadata": {},
          "execution_count": 5
        }
      ]
    },
    {
      "cell_type": "markdown",
      "source": [
        "###***Задача 3***\n",
        "\n",
        "Дан список с затратами на рекламу. Но в данных есть ошибки, некоторые затраты имеют отрицательную величину. Удалите такие значения из списка и посчитайте суммарные затраты\n",
        "\n",
        "[100, 125, -90, 345, 655, -1, 0, 200]\n",
        "\n",
        "Используйте list comprehensions"
      ],
      "metadata": {
        "id": "qOEKD4-zaEyo"
      }
    },
    {
      "cell_type": "code",
      "source": [
        "spisok = [100, 125, -90, 345, 655, -1, 0, 200]\n",
        "sum([i for i in spisok if i > 0])"
      ],
      "metadata": {
        "colab": {
          "base_uri": "https://localhost:8080/"
        },
        "id": "Ckf1kXFVaoY5",
        "outputId": "29048cfa-7f3d-49f3-d165-113622f2812e"
      },
      "execution_count": null,
      "outputs": [
        {
          "output_type": "execute_result",
          "data": {
            "text/plain": [
              "1425"
            ]
          },
          "metadata": {},
          "execution_count": 10
        }
      ]
    },
    {
      "cell_type": "markdown",
      "source": [
        "###***Задача 4***\n",
        "Даны два списка.\n",
        "\n",
        "Дата покупки\n",
        "\n",
        "['2021-09-14', '2021-12-15', '2021-09-08', '2021-12-05', '2021-10-09', '2021-09-30', '2021-12-22', '2021-11-29', '2021-12-24', '2021-11-26', '2021-10-27', '2021-12-18', '2021-11-09', '2021-11-23', '2021-09-27', '2021-10-02', '2021-12-27', '2021-09-20', '2021-12-13', '2021-11-01', '2021-11-09', '2021-12-06', '2021-12-08', '2021-10-09', '2021-10-31', '2021-09-30', '2021-11-09', '2021-12-13', '2021-10-26', '2021-12-09']\n",
        "\n",
        "Суммы покупок по датам\n",
        "\n",
        "[1270, 8413, 9028, 3703, 5739, 4095, 295, 4944, 5723, 3701, 4471, 651, 7037, 4274, 6275, 4988, 6930, 2971, 6592, 2004, 2822, 519, 3406, 2732, 5015, 2008, 316, 6333, 5700, 2887]"
      ],
      "metadata": {
        "id": "11cJ_ZAecYUP"
      }
    },
    {
      "cell_type": "markdown",
      "source": [
        "###4.1 Найдите, какая выручка у компании в ноябре\n",
        "Используйте list comprehensions"
      ],
      "metadata": {
        "id": "TFvjaqxCcmo8"
      }
    },
    {
      "cell_type": "code",
      "source": [
        "date = ['2021-09-14', '2021-12-15', '2021-09-08', '2021-12-05', '2021-10-09', '2021-09-30', \n",
        "        '2021-12-22', '2021-11-29', '2021-12-24', '2021-11-26', '2021-10-27', '2021-12-18', \n",
        "        '2021-11-09', '2021-11-23', '2021-09-27', '2021-10-02', '2021-12-27', '2021-09-20', \n",
        "        '2021-12-13', '2021-11-01', '2021-11-09', '2021-12-06', '2021-12-08', '2021-10-09', \n",
        "        '2021-10-31', '2021-09-30', '2021-11-09', '2021-12-13', '2021-10-26', '2021-12-09']\n",
        "\n",
        "incom = [1270, 8413, 9028, 3703, 5739, 4095, 295, 4944, 5723, 3701, 4471, 651, \n",
        "         7037, 4274, 6275, 4988, 6930, 2971, 6592, 2004, 2822, 519, 3406, 2732, \n",
        "         5015, 2008, 316, 6333, 5700, 2887]\n",
        "\n",
        "sum ([incom[i] for i in range(len(date)) if date[i].split('-')[1] == '11'])\n"
      ],
      "metadata": {
        "colab": {
          "base_uri": "https://localhost:8080/"
        },
        "id": "iHa1xNcKd7zf",
        "outputId": "b7867fe2-14a8-4b29-aa86-674dee7e6624"
      },
      "execution_count": 24,
      "outputs": [
        {
          "output_type": "execute_result",
          "data": {
            "text/plain": [
              "25098"
            ]
          },
          "metadata": {},
          "execution_count": 24
        }
      ]
    },
    {
      "cell_type": "markdown",
      "source": [
        "###4.2 Найдите выручку компании в зависимости от месяца\n",
        "Для этого напишите функцию, которая на вход принимает список с датами и список с выручкой, а на выходе словарь, где ключи - это месяцы, а значения - это выручка.\n",
        "Используйте аннотирование типов."
      ],
      "metadata": {
        "id": "nrTOXtqYewDJ"
      }
    },
    {
      "cell_type": "markdown",
      "source": [],
      "metadata": {
        "id": "YohYgjUVe29C"
      }
    },
    {
      "cell_type": "code",
      "source": [
        "def find_incom_by_month(date: list, incom: list) -> dict:\n",
        "  incom_by_month = {}\n",
        "\n",
        "  for i in range(len(date)):\n",
        "    month = date[i].split('-')[1]\n",
        "    if month in incom_by_month.keys():\n",
        "      incom_by_month[month] += incom[i]\n",
        "    else:\n",
        "      incom_by_month[month] = incom[i]\n",
        "\n",
        "  return incom_by_month\n",
        "\n",
        "find_incom_by_month(date, incom)"
      ],
      "metadata": {
        "colab": {
          "base_uri": "https://localhost:8080/"
        },
        "id": "S-uk7Rcle3-w",
        "outputId": "571b8fbf-d0bd-4456-98b8-e958cdb686c0"
      },
      "execution_count": 25,
      "outputs": [
        {
          "output_type": "execute_result",
          "data": {
            "text/plain": [
              "{'09': 25647, '12': 45452, '10': 28645, '11': 25098}"
            ]
          },
          "metadata": {},
          "execution_count": 25
        }
      ]
    }
  ]
}